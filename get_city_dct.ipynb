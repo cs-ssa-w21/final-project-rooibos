{
 "cells": [
  {
   "cell_type": "code",
   "execution_count": 2,
   "id": "executed-project",
   "metadata": {},
   "outputs": [],
   "source": [
    "#getting the city list\n",
    "import requests\n",
    "from bs4 import BeautifulSoup\n",
    "import re\n",
    "\n",
    "r_city = requests.get(\"https://en.wikipedia.org/wiki/List_of_cities_in_China\")\n",
    "s_city = BeautifulSoup(r_city.text,'html.parser')\n",
    "s_city.prettify()\n",
    "\n",
    "import chinese_converter\n",
    "\n",
    "def divide(string):\n",
    "    string = chinese_converter.to_simplified(string)\n",
    "    if '特别行政区' in string: \n",
    "        return string[0:2]\n",
    "    else:\n",
    "        return string[:-1]\n",
    "\n",
    "dct_city = {}\n",
    "normal_cities = s_city.find_all('tr',bgcolor=\"Lavender\")\n",
    "for c in normal_cities:\n",
    "    lst = c.text.split()\n",
    "    cn_name = lst[1]\n",
    "    cn_name = divide(cn_name)\n",
    "    dct_city[cn_name] = lst[0]\n",
    "    \n",
    "special_cities = s_city.find_all('tr',bgcolor=\"Thistle\")+ s_city.find_all('tr',bgcolor=\"Moccasin\")\n",
    "for c in special_cities:\n",
    "    txt = re.sub(' ','',c.text) #this is for the special case of HK\n",
    "    lst = txt.split()\n",
    "    cn_name = lst[1]\n",
    "    cn_name = divide(cn_name)\n",
    "    dct_city[cn_name] = lst[0]"
   ]
  },
  {
   "cell_type": "code",
   "execution_count": 14,
   "id": "growing-subscriber",
   "metadata": {},
   "outputs": [
    {
     "data": {
      "text/plain": [
       "299"
      ]
     },
     "execution_count": 14,
     "metadata": {},
     "output_type": "execute_result"
    }
   ],
   "source": [
    "len(dct_city) #293 ordinary cities + 2 special districts + 4 municipals"
   ]
  },
  {
   "cell_type": "code",
   "execution_count": 11,
   "id": "sunrise-purchase",
   "metadata": {},
   "outputs": [
    {
     "data": {
      "text/plain": [
       "['Suzhou', 'Fuzhou', 'Yulin', 'Yichun', 'Taizhou']"
      ]
     },
     "execution_count": 11,
     "metadata": {},
     "output_type": "execute_result"
    }
   ],
   "source": [
    "#some cities share the same pinyin, will deal at the end\n",
    "lst_same = []\n",
    "for v in dct_city.values():\n",
    "    if len([c for c in dct_city.values() if c == v]) > 1 and v not in lst_same:\n",
    "        lst_same.append(v)\n",
    "lst_same"
   ]
  }
 ],
 "metadata": {
  "kernelspec": {
   "display_name": "Python 3",
   "language": "python",
   "name": "python3"
  },
  "language_info": {
   "codemirror_mode": {
    "name": "ipython",
    "version": 3
   },
   "file_extension": ".py",
   "mimetype": "text/x-python",
   "name": "python",
   "nbconvert_exporter": "python",
   "pygments_lexer": "ipython3",
   "version": "3.8.5"
  }
 },
 "nbformat": 4,
 "nbformat_minor": 5
}
