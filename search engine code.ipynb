{
 "cells": [
  {
   "cell_type": "code",
   "execution_count": null,
   "id": "refined-dispute",
   "metadata": {},
   "outputs": [],
   "source": [
    "chrome_options = webdriver.ChromeOptions()\n",
    "chrome_options.add_experimental_option(\"useAutomationExtension\", False)\n",
    "chrome_options.add_experimental_option(\"excludeSwitches\",[\"enable-automation\"])\n",
    "driver = webdriver.Chrome(ChromeDriverManager().install(),options=chrome_options,)\n",
    "#above can copy\n",
    "driver.get(\"https://seekingalpha.com/account/login\")\n",
    "email = driver.find_element_by_name(\"email\")\n",
    "email.send_keys(\"zhouxing@uchicago.edu\")\n",
    "password = driver.find_element_by_id(\"signInPasswordField\")\n",
    "password.send_keys(“mypassword”)\n",
    "driver.find_element_by_xpath(\"//button[@type='submit']\").click()"
   ]
  }
 ],
 "metadata": {
  "kernelspec": {
   "display_name": "Python 3",
   "language": "python",
   "name": "python3"
  },
  "language_info": {
   "codemirror_mode": {
    "name": "ipython",
    "version": 3
   },
   "file_extension": ".py",
   "mimetype": "text/x-python",
   "name": "python",
   "nbconvert_exporter": "python",
   "pygments_lexer": "ipython3",
   "version": "3.8.5"
  }
 },
 "nbformat": 4,
 "nbformat_minor": 5
}
