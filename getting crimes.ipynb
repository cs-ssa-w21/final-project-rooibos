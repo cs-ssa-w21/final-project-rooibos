{
 "cells": [
  {
   "cell_type": "code",
   "execution_count": null,
   "id": "exclusive-netscape",
   "metadata": {},
   "outputs": [],
   "source": [
    "# this code is for retrieving the crimes to a list of strings\n",
    "# exist edge cases need further manual adjustment (planned after matching)"
   ]
  },
  {
   "cell_type": "code",
   "execution_count": 1,
   "id": "three-horse",
   "metadata": {},
   "outputs": [],
   "source": [
    "import requests\n",
    "from bs4 import BeautifulSoup\n",
    "import re"
   ]
  },
  {
   "cell_type": "code",
   "execution_count": 2,
   "id": "demographic-gossip",
   "metadata": {},
   "outputs": [],
   "source": [
    "import pandas as pd\n",
    "import numpy as np"
   ]
  },
  {
   "cell_type": "code",
   "execution_count": null,
   "id": "played-pipeline",
   "metadata": {},
   "outputs": [],
   "source": [
    "r = requests.get(\"https://cnwoman-bot.github.io/evil-man/\")\n",
    "soup = BeautifulSoup(r.text,'html.parser')\n",
    "soup.prettify()\n"
   ]
  },
  {
   "cell_type": "code",
   "execution_count": 4,
   "id": "brown-gallery",
   "metadata": {},
   "outputs": [],
   "source": [
    "def get_news_within(div):\n",
    "    p = div.next_sibling.next_sibling\n",
    "    lst_text = [a.text for a in p.find_all('a')]\n",
    "    return lst_text\n",
    "    "
   ]
  },
  {
   "cell_type": "code",
   "execution_count": 6,
   "id": "turned-transsexual",
   "metadata": {},
   "outputs": [],
   "source": [
    "div = [d for d in soup.find_all('div',class_=\"language-plaintext highlighter-rouge\") if '本小节合计' in d.text]\n",
    "crime = []\n",
    "for d in div:\n",
    "    crime += get_news_within(d)\n",
    "crime += other1\n",
    "crime += other2\n",
    "l = ['亳州6·15杀人案,邻居眼中的老实人,为何连杀4人','四川一名大学本科男子刘某在成都开往深圳的火车上猥亵9岁女童','浙大学生努某某强奸被判一年半，学校不与开除，留校察看','猥亵女童的网红“豆浆王子”蒙顺宁，出狱后获得公益组织爱心帮扶',\n",
    " '西南某大学法学院22岁男生偷拍女生裙底',\n",
    " '陕西安康石泉30岁的男子索爱一女子不成跳江自杀，女子被判决赔偿各项损失七万元']\n",
    "crime += l\n",
    "\n"
   ]
  },
  {
   "cell_type": "code",
   "execution_count": 5,
   "id": "addressed-enclosure",
   "metadata": {},
   "outputs": [],
   "source": [
    "text = [i.parent.text.split('\\n') for i in soup.find_all('a') if i.text.startswith('判决日期')]\n",
    "o = []\n",
    "for t in text:\n",
    "    if len(t) <= 3:\n",
    "        o.append(t[0])\n",
    "    else:\n",
    "        for s in t:\n",
    "            if '判决日期' not in s:\n",
    "                o.append(s)\n",
    "o = list(set(o))\n",
    "other1 = o\n",
    "\n",
    "other2 = ['新疆喀什大学文学院援疆博士王明科','云南云南大学文学院副教授蔡英杰性骚扰留学生被公开处分，现任福建师范大学教授','甘肃兰州大学大气科学学院副院长张文煜被曝性侵',\n",
    "         '上海戏剧学院教务处处长厉震林性骚扰，已无链接','央美设计学院院长宋协伟被指控性骚扰、猥亵女学生', '原北京中央民族大学文学院与新闻传播学院刘立刚性骚扰',\n",
    "         '湖北美院偷拍女生裙底把视频发到了p站，无语，链接不放了','北京电影学院阿廖莎性侵案','北京电影学院侯亮平事件']"
   ]
  },
  {
   "cell_type": "code",
   "execution_count": 7,
   "id": "generic-tragedy",
   "metadata": {},
   "outputs": [
    {
     "data": {
      "text/plain": [
       "1830"
      ]
     },
     "execution_count": 7,
     "metadata": {},
     "output_type": "execute_result"
    }
   ],
   "source": [
    "len(crime)"
   ]
  }
 ],
 "metadata": {
  "kernelspec": {
   "display_name": "Python 3",
   "language": "python",
   "name": "python3"
  },
  "language_info": {
   "codemirror_mode": {
    "name": "ipython",
    "version": 3
   },
   "file_extension": ".py",
   "mimetype": "text/x-python",
   "name": "python",
   "nbconvert_exporter": "python",
   "pygments_lexer": "ipython3",
   "version": "3.8.5"
  }
 },
 "nbformat": 4,
 "nbformat_minor": 5
}
